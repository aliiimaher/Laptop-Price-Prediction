{
 "cells": [
  {
   "cell_type": "code",
   "execution_count": 1,
   "metadata": {},
   "outputs": [],
   "source": [
    "import pandas as pd"
   ]
  },
  {
   "cell_type": "code",
   "execution_count": 20,
   "metadata": {},
   "outputs": [
    {
     "name": "stdout",
     "output_type": "stream",
     "text": [
      "0         256\n",
      "1         256\n",
      "2         256\n",
      "3         512\n",
      "4         256\n",
      "        ...  \n",
      "1098    1280 \n",
      "1099     1024\n",
      "1100      512\n",
      "1101     1024\n",
      "1102     2048\n",
      "Name: internal storage, Length: 1103, dtype: object\n"
     ]
    }
   ],
   "source": [
    "# clean the internal storage column\n",
    "\n",
    "df = pd.read_csv('./all digikala laptops.csv')\n",
    "# converting persian data to english\n",
    "df['internal storage'] = df['internal storage'].str.replace('یک ترابایت و ۲۵۶ گیگابایت', '1280')\n",
    "df['internal storage'] = df['internal storage'].str.replace('۱۲۸ گیگابایت ', '128')\n",
    "df['internal storage'] = df['internal storage'].str.replace('۲۵۶ گیگابایت ', '256')\n",
    "df['internal storage'] = df['internal storage'].str.replace('۵۱۲ گیگابایت ', '512')\n",
    "df['internal storage'] = df['internal storage'].str.replace('یک ترابایت ', '1024')\n",
    "df['internal storage'] = df['internal storage'].str.replace('دو ترابایت ', '2048')\n",
    "df['internal storage'] = df['internal storage'].str.replace('گیگابایت', '')\n",
    "# convert persian numbers to english\n",
    "df['internal storage'] = df['internal storage'].str.replace('۰', '0')\n",
    "df['internal storage'] = df['internal storage'].str.replace('۱', '1')\n",
    "df['internal storage'] = df['internal storage'].str.replace('۲', '2')\n",
    "df['internal storage'] = df['internal storage'].str.replace('۳', '3')\n",
    "df['internal storage'] = df['internal storage'].str.replace('۴', '4')\n",
    "df['internal storage'] = df['internal storage'].str.replace('۵', '5')\n",
    "df['internal storage'] = df['internal storage'].str.replace('۶', '6')\n",
    "df['internal storage'] = df['internal storage'].str.replace('۷', '7')\n",
    "df['internal storage'] = df['internal storage'].str.replace('۸', '8')\n",
    "df['internal storage'] = df['internal storage'].str.replace('۹', '9')\n",
    "\n",
    "# df['internal storage'] = df['internal storage'].str.replace('و', 'and')\n",
    "print(df['internal storage'])\n",
    "\n",
    "df.to_csv('allDigikaLalaptops_CLEANED.csv', index=False, encoding='utf-8-sig')"
   ]
  },
  {
   "cell_type": "code",
   "execution_count": 21,
   "metadata": {},
   "outputs": [],
   "source": [
    "# clean gpu memory column\n",
    "\n",
    "df = pd.read_csv('./allDigikaLalaptops_CLEANED.csv')\n",
    "\n",
    "df['GPU memory'] = df['GPU memory'].str.replace('بدون حافظه‌ی گرافیکی مجزا ', '0')\n",
    "\n",
    "df.to_csv('allDigikaLalaptops_CLEANED.csv', index=False, encoding='utf-8-sig')"
   ]
  },
  {
   "cell_type": "code",
   "execution_count": null,
   "metadata": {},
   "outputs": [],
   "source": [
    "# clean min and max hertz columns\n",
    "\n",
    "df = pd.read_csv('./allDigikaLalaptops_CLEANED.csv')\n",
    "\n",
    "df['min hertz'] = df['min hertz'].str.replace('متغیر ', '2.06')\n",
    "df['max hertz'] = df['max hertz'].str.replace('متغیر ', '3.22')\n",
    "\n",
    "df.to_csv('allDigikaLalaptops_CLEANED.csv', index=False, encoding='utf-8-sig')"
   ]
  },
  {
   "cell_type": "code",
   "execution_count": null,
   "metadata": {},
   "outputs": [],
   "source": [
    "# replace the 2-cell batteries with mean of the other batteries\n",
    "\n",
    "df = pd.read_csv('./allDigikaLalaptops_CLEANED.csv')\n",
    "\n",
    "# select the rows with 2-cell batteries\n",
    "df2 = df[df['battery'].str.contains('دو سلولی ')]\n",
    "# get the mean of the other batteries\n",
    "mean = int(df[~df['battery'].str.contains('دو سلولی ')]['battery']).mean()\n",
    "df2['battery'] = df2['battery'].str.replace('دو سلولی ', str(mean))\n",
    "\n",
    "df.to_csv('allDigikaLalaptops_CLEANED.csv', index=False, encoding='utf-8-sig')"
   ]
  },
  {
   "cell_type": "code",
   "execution_count": 23,
   "metadata": {},
   "outputs": [
    {
     "name": "stdout",
     "output_type": "stream",
     "text": [
      "   weight  min hertz   max hertz  cach mem  internal storage  \\\n",
      "0    1.50       1.10        2.80         4               256   \n",
      "1    1.62       1.60        4.50        10               256   \n",
      "2    1.60       2.40        3.50         2               256   \n",
      "3    1.62       2.10        4.60        12               512   \n",
      "4    1.29       2.06        3.22        12               256   \n",
      "\n",
      "   internal_storage_hdd  GPU memory  screen size screen refresh rate  battery  \\\n",
      "0                     0         0.0         15.6                  60    51.44   \n",
      "1                     0         0.0         15.6                 250    47.00   \n",
      "2                     0         0.0         15.6                 250    35.00   \n",
      "3                     0         0.0         15.6                  60    47.00   \n",
      "4                     0         0.0         13.3                  16    49.90   \n",
      "\n",
      "   ...  GPU model_Radeon RX VEGA 8   GPU model_UHD   \\\n",
      "0  ...                        False           False   \n",
      "1  ...                        False           False   \n",
      "2  ...                        False           False   \n",
      "3  ...                        False           False   \n",
      "4  ...                        False           False   \n",
      "\n",
      "   GPU model_UHD 600 Graphics   GPU model_UHD Graphics   \\\n",
      "0                        False                     True   \n",
      "1                        False                     True   \n",
      "2                        False                    False   \n",
      "3                        False                     True   \n",
      "4                        False                    False   \n",
      "\n",
      "   GPU model_UHD Graphics    \\\n",
      "0                     False   \n",
      "1                     False   \n",
      "2                     False   \n",
      "3                     False   \n",
      "4                     False   \n",
      "\n",
      "   GPU model_UHD Graphics (Iris Xe Support By Dual Channel Memory)   \\\n",
      "0                                              False                  \n",
      "1                                              False                  \n",
      "2                                              False                  \n",
      "3                                              False                  \n",
      "4                                              False                  \n",
      "\n",
      "   GPU model_UHD Graphics (Iris Xe در صورت استفاده از رم دو کاناله)   \\\n",
      "0                                              False                   \n",
      "1                                              False                   \n",
      "2                                              False                   \n",
      "3                                              False                   \n",
      "4                                              False                   \n",
      "\n",
      "   GPU model_UHD Graphics (Iris Xe در صورت استفاده از رم دو کاناله)1   \\\n",
      "0                                              False                    \n",
      "1                                              False                    \n",
      "2                                              False                    \n",
      "3                                              False                    \n",
      "4                                              False                    \n",
      "\n",
      "   GPU model_UHD Graphics 600   GPU model_UHD graphics   \n",
      "0                        False                    False  \n",
      "1                        False                    False  \n",
      "2                        False                    False  \n",
      "3                        False                    False  \n",
      "4                        False                    False  \n",
      "\n",
      "[5 rows x 212 columns]\n"
     ]
    }
   ],
   "source": [
    "# one-hot encoding\n",
    "\n",
    "df = pd.read_csv('./allDigikaLalaptops_CLEANED.csv')\n",
    "\n",
    "columns_to_encode = ['RAM',\n",
    "    'Processor manufacturer', 'Processor model', 'Processor series',\n",
    "    'internal storage type', 'GPU manufacturer', 'GPU model'\n",
    "]\n",
    "\n",
    "# Apply one-hot encoding to the specified columns\n",
    "df_encoded = pd.get_dummies(df, columns=columns_to_encode)\n",
    "df_encoded = df_encoded.drop(df_encoded.columns[[0, 1]], axis=1)\n",
    "\n",
    "print(df_encoded.head())\n",
    "df_encoded.to_csv('./allDigikaLaptops_ENCODED.csv', index=False, encoding='utf-8-sig')"
   ]
  }
 ],
 "metadata": {
  "kernelspec": {
   "display_name": "Python 3",
   "language": "python",
   "name": "python3"
  },
  "language_info": {
   "codemirror_mode": {
    "name": "ipython",
    "version": 3
   },
   "file_extension": ".py",
   "mimetype": "text/x-python",
   "name": "python",
   "nbconvert_exporter": "python",
   "pygments_lexer": "ipython3",
   "version": "3.11.5"
  }
 },
 "nbformat": 4,
 "nbformat_minor": 2
}
